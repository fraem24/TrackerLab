{
 "cells": [
  {
   "cell_type": "markdown",
   "metadata": {
    "slideshow": {
     "slide_type": "notes"
    }
   },
   "source": [
    "# ...\n",
    "\n",
    "...<br>\n",
    "\n",
    "Author(s): *Martin Fränzl*"
   ]
  },
  {
   "cell_type": "markdown",
   "metadata": {},
   "source": [
    "## Required Packages"
   ]
  },
  {
   "cell_type": "code",
   "execution_count": null,
   "metadata": {},
   "outputs": [],
   "source": [
    "import numpy as np\n",
    "pi = np.pi\n",
    "import matplotlib.pyplot as plt\n",
    "%matplotlib inline\n",
    "\n",
    "import sys\n",
    "sys.path.append('../')\n",
    "#from trackerlab import readers, detectors\n",
    "\n",
    "#import importlib\n",
    "#importlib.reload(trackerlab)"
   ]
  },
  {
   "cell_type": "code",
   "execution_count": 2,
   "metadata": {},
   "outputs": [],
   "source": [
    "from trackerlab import readers, detectors, utils"
   ]
  },
  {
   "cell_type": "code",
   "execution_count": 3,
   "metadata": {},
   "outputs": [],
   "source": [
    "import json \n",
    "plt.rcParams.update(json.load(open('plotstyle.json')))"
   ]
  },
  {
   "cell_type": "code",
   "execution_count": 4,
   "metadata": {},
   "outputs": [
    {
     "name": "stdout",
     "output_type": "stream",
     "text": [
      "Properties (Root):\n",
      "  path: Test\n",
      "  dimx: 512\n",
      "  dimy: 512\n",
      "  dimz: 434\n",
      "  binning: 1\n",
      "  exposure: 0.030000\n",
      "'Image'\n",
      "  Properties ('Image')\n",
      "  Image\n",
      "  px\n",
      "  py\n",
      "  pz\n",
      "  PD\n",
      "  expAD\n",
      "  expLV\n"
     ]
    }
   ],
   "source": [
    "utils.analyse_tdms(\"../test_data/Test_001_movie.tdms\")"
   ]
  },
  {
   "cell_type": "code",
   "execution_count": null,
   "metadata": {},
   "outputs": [],
   "source": [
    "images, metadata = readers.read_tdms_video(\"../test_data/Test_001_movie.tdms\")"
   ]
  },
  {
   "cell_type": "code",
   "execution_count": null,
   "metadata": {},
   "outputs": [],
   "source": [
    "#exposure = metadata[\"exposure\"]\n",
    "#binning = metadata[\"binning\"]"
   ]
  },
  {
   "cell_type": "code",
   "execution_count": null,
   "metadata": {},
   "outputs": [],
   "source": [
    "frame = 0\n",
    "threshold = 1000\n",
    "min_area = 5\n",
    "max_area = 250\n",
    "max_features = 100\n",
    "\n",
    "fig, (ax1, ax2) = plt.subplots(1, 2, figsize=(12,6))\n",
    "\n",
    "features, threshold_image = detectors.connected_components(images[frame], threshold, min_area, max_area, max_features)\n",
    "\n",
    "ax1.imshow(images[frame], cmap='gray')\n",
    "ax2.imshow(threshold_image, cmap='gray')\n",
    "\n",
    "for idx, f in features.iterrows():\n",
    "    ax1.add_patch(plt.Circle((f['x'], f['y']), np.sqrt(f['area']/np.pi), fill=False, ec='r', lw=2))\n",
    "    ax2.add_patch(plt.Circle((f['x'], f['y']), np.sqrt(f['area']/np.pi), fill=False, ec='r', lw=2))\n"
   ]
  },
  {
   "cell_type": "code",
   "execution_count": null,
   "metadata": {},
   "outputs": [],
   "source": [
    "frame = 0\n",
    "threshold = 0.1\n",
    "max_sigma = 5\n",
    "\n",
    "fig, ax = plt.subplots(1, 1, figsize=(6,5.6))\n",
    "\n",
    "ax.imshow(images[frame], cmap='gray')\n",
    "features, _ = detectors.difference_of_gaussians(images[frame], max_sigma=max_sigma, threshold=threshold)\n",
    "\n",
    "for idx, f in features.iterrows():\n",
    "    ax.add_patch(plt.Circle((f['x'], f['y']), np.sqrt(f['area']/np.pi), fill=False, ec='r', lw=2))"
   ]
  },
  {
   "cell_type": "code",
   "execution_count": null,
   "metadata": {},
   "outputs": [],
   "source": [
    "images, metadata = readers.read_tdms_video(\"../sample_data/Test_005_movie.tdms\")"
   ]
  },
  {
   "cell_type": "code",
   "execution_count": null,
   "metadata": {},
   "outputs": [],
   "source": [
    "frame = 0\n",
    "\n",
    "sigma = 3\n",
    "low_threshold = 0.2\n",
    "high_threshold = 0.8\n",
    "min_radius = 20\n",
    "max_radius = 30\n",
    "threshold = 0.5\n",
    "\n",
    "fig, (ax1, ax2) = plt.subplots(1, 2, figsize=(12,6))\n",
    "\n",
    "ax.imshow(images[frame], cmap='gray')\n",
    "features, edges_image = detectors.hough_transform(images[frame], sigma, low_threshold, high_threshold, min_radius, max_radius, threshold)\n",
    "\n",
    "ax1.imshow(images[frame], cmap='gray')\n",
    "ax2.imshow(edges_image, cmap='gray')\n",
    "\n",
    "for idx, f in features.iterrows():\n",
    "    ax1.add_patch(plt.Circle((f['x'], f['y']), f['radius'], fill=False, ec='r', lw=2))"
   ]
  },
  {
   "cell_type": "code",
   "execution_count": null,
   "metadata": {},
   "outputs": [],
   "source": []
  }
 ],
 "metadata": {
  "anaconda-cloud": {},
  "kernelspec": {
   "display_name": "Python 3",
   "language": "python",
   "name": "python3"
  },
  "language_info": {
   "codemirror_mode": {
    "name": "ipython",
    "version": 3
   },
   "file_extension": ".py",
   "mimetype": "text/x-python",
   "name": "python",
   "nbconvert_exporter": "python",
   "pygments_lexer": "ipython3",
   "version": "3.8.3"
  },
  "varInspector": {
   "cols": {
    "lenName": 16,
    "lenType": 16,
    "lenVar": 40
   },
   "kernels_config": {
    "python": {
     "delete_cmd_postfix": "",
     "delete_cmd_prefix": "del ",
     "library": "var_list.py",
     "varRefreshCmd": "print(var_dic_list())"
    },
    "r": {
     "delete_cmd_postfix": ") ",
     "delete_cmd_prefix": "rm(",
     "library": "var_list.r",
     "varRefreshCmd": "cat(var_dic_list()) "
    }
   },
   "types_to_exclude": [
    "module",
    "function",
    "builtin_function_or_method",
    "instance",
    "_Feature"
   ],
   "window_display": false
  }
 },
 "nbformat": 4,
 "nbformat_minor": 4
}
